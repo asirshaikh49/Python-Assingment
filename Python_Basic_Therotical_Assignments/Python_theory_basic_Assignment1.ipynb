{
 "cells": [
  {
   "cell_type": "markdown",
   "metadata": {},
   "source": [
    "# 1. What are the differences between operators and values in the following?\n",
    "*\n",
    "'hello'\n",
    "-87.8\n",
    "-\n",
    "/\n",
    "+\n",
    "6\n"
   ]
  },
  {
   "cell_type": "markdown",
   "metadata": {},
   "source": [
    "# solution - \n",
    "                    Operators= {*,-,/,+}\n",
    "                    values = {'hello',-87.8,6}\n",
    "         Opertors are Used to do arithemetical and logical calculations.\n",
    "         Values are may be Integer, float or strings."
   ]
  },
  {
   "cell_type": "markdown",
   "metadata": {},
   "source": [
    "# 2. What is the difference between string and variable?\n",
    "spam\n",
    "'spam'\n"
   ]
  },
  {
   "cell_type": "markdown",
   "metadata": {},
   "source": [
    "# Solution -\n",
    "A Variable is a store of information, and a String is a type of information you would store in a Variable. A String is usually words, enclosed with \"\" Eg String (spam =\"spam\") "
   ]
  },
  {
   "cell_type": "markdown",
   "metadata": {},
   "source": [
    "# 3. Describe three different data forms."
   ]
  },
  {
   "cell_type": "markdown",
   "metadata": {},
   "source": [
    "# solution\n",
    "1. Integer :- its an any  whole number which is either postive or negative. Ex-{8,6,-9,-3}\n",
    "2. float :- float is indicates any positive floting number. Ex-{1.00, 2.43, 156.4563}\n",
    "3. String :- String is a sequence of characters which includes space as character. String is enclosed in \" \" or ' ' Ex-{''} "
   ]
  },
  {
   "cell_type": "markdown",
   "metadata": {},
   "source": [
    "# 4. What makes up an expression? What are the functions of all expressions?"
   ]
  },
  {
   "cell_type": "markdown",
   "metadata": {},
   "source": [
    "# solution -\n",
    "Expression: An expression is a combination of operators, constants and variables. An expression may consist of one or more operands, and zero or more operators to produce a value.  EX:- a+b\n",
    "\n",
    "There are 7 Types of Expressions\n",
    "\n",
    "1)Constant expressions: Constant Expressions consists of only constant values. A constant value is one that doesn’t change.\n",
    "Examples:  10 + 5 / 6.0,\n",
    "\n",
    "2)Integral expressions: Integral Expressions are those which produce integer results after implementing all the automatic and explicit type conversions.       Examples: x, x * y, x + int( 5.0)\n",
    "where x and y are integer variables.\n",
    "\n",
    "3)Floating expressions: Float Expressions are which produce floating point results after implementing all the automatic and explicit type conversions.         Examples: x + y, 10.75\n",
    "where x and y are floating point variables.\n",
    "\n",
    "4)Relational expressions: Relational Expressions yield results of type bool which takes a value true or false. When arithmetic expressions are used on either side of a relational operator, they will be evaluated first and then the results compared. Relational expressions are also known as Boolean expressions.\n",
    "                                   Examples: x <= y, x + y > 2\n",
    "5)Logical expressions: Logical Expressions combine two or more relational expressions and produces bool type results.\n",
    "                                    Examples: x > y && x == 10, x == 10 || y == 5 \n",
    "6)Pointer expressions: Pointer Expressions produce address values.\n",
    "                                    Examples: &x, ptr, ptr++\n",
    "where x is a variable and ptr is a pointer.\n",
    "\n",
    "7)Bitwise expressions: Bitwise Expressions are used to manipulate data at bit level. They are basically used for testing or shifting bits.\n",
    "                                     Examples: x << 3\n",
    "                                            shifts three bit position to left\n",
    "                                               y >> 1\n",
    "                                            shifts one bit position to right.\n",
    "Shift operators are often used for multiplication and division by powers of two."
   ]
  },
  {
   "cell_type": "markdown",
   "metadata": {},
   "source": [
    "# 5. In this chapter, assignment statements such as spam = 10 were added. What's the difference between a declaration and an expression?"
   ]
  },
  {
   "cell_type": "markdown",
   "metadata": {},
   "source": [
    "# solution - spam=10\n",
    "   DECLARATION : as we declare the statement spam=10; then it initailize the the varibles spam with value 10.\n",
    "    EXPRESSION : spam =10 it is not an expression, because expression needs operators and it should be have two or more than two values"
   ]
  },
  {
   "cell_type": "markdown",
   "metadata": {},
   "source": [
    "# 6. After running the following code, what does the variable bacon contain?\n",
    "bacon = 22\n",
    "bacon + 1\n"
   ]
  },
  {
   "cell_type": "markdown",
   "metadata": {},
   "source": [
    "# solution -\n",
    "bacon = 22\n",
    "bacon + 1\n",
    "\n",
    "output = 23\n",
    "after running this code output comes out is 23; In the first statement we have initialise the bacon =22 then in the next statement we add 1 in statement with bacon; so bacon is 22 and 1 then output is 23; So after running this code bacon contains 22"
   ]
  },
  {
   "cell_type": "markdown",
   "metadata": {},
   "source": [
    "# 7. What should the values of the following two terms be?\n",
    "\n",
    "'spam' + 'spamspam'\n",
    "'spam' * 3\n"
   ]
  },
  {
   "cell_type": "markdown",
   "metadata": {},
   "source": [
    "# solution \n",
    "      1) 'spam'+'spamspam' = 'spamspamspam'\n",
    "      2) 'spam'*3 = 'spamspamspam'\n",
    "      \n",
    "     In the both cases we get same output."
   ]
  },
  {
   "cell_type": "markdown",
   "metadata": {},
   "source": [
    "\n",
    "# 8. Why is it that eggs is a true variable name but 100 is not?\n"
   ]
  },
  {
   "cell_type": "markdown",
   "metadata": {},
   "source": [
    "# solution \n",
    "            Because Variable names cannot begin with a number.\n",
    "            variable name can start with any aplhabet but cannot with any integer.\n",
    "            it can also start with underscore (_) sign but cannot with any other operator or sign.\n",
    "            ex-eggs, _x, A."
   ]
  },
  {
   "cell_type": "markdown",
   "metadata": {},
   "source": [
    "# 9. Which of the following three functions may be used to convert a value to an integer, a floating-point number, or a string?"
   ]
  },
  {
   "cell_type": "markdown",
   "metadata": {},
   "source": [
    "# solution \n",
    "        1.int(value)\n",
    "        2.float(value)\n",
    "        3.str(value)"
   ]
  },
  {
   "cell_type": "markdown",
   "metadata": {},
   "source": [
    "# 10. What is the error caused by this expression? What would you do about it?\n",
    "\n",
    "'I have eaten ' + 99 + ' burritos.'\n"
   ]
  },
  {
   "cell_type": "markdown",
   "metadata": {},
   "source": [
    "# solution\n",
    "TypeError: can only concatenate str (not \"int\") to str\n",
    "    \n",
    "    if we get this error then we change type of int into str\n",
    "    or we put this expreesion as it is but the 99 we will written in \" \" or ' '.\n",
    "    ex- 'I have eaten ' +' 99 '+'burritos.'\n"
   ]
  },
  {
   "cell_type": "markdown",
   "metadata": {},
   "source": []
  },
  {
   "cell_type": "code",
   "execution_count": null,
   "metadata": {},
   "outputs": [],
   "source": []
  }
 ],
 "metadata": {
  "kernelspec": {
   "display_name": "Python 3",
   "language": "python",
   "name": "python3"
  },
  "language_info": {
   "codemirror_mode": {
    "name": "ipython",
    "version": 3
   },
   "file_extension": ".py",
   "mimetype": "text/x-python",
   "name": "python",
   "nbconvert_exporter": "python",
   "pygments_lexer": "ipython3",
   "version": "3.8.5"
  }
 },
 "nbformat": 4,
 "nbformat_minor": 4
}
