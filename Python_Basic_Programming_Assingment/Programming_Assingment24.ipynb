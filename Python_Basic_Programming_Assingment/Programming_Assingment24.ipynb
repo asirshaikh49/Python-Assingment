{
 "cells": [
  {
   "cell_type": "markdown",
   "metadata": {},
   "source": [
    "# Create a function that takes an integer and returns a list from 1 to the given number, where:\n",
    "# 1.If the number can be divided evenly by 4, amplify it by 10 (i.e. return 10 times the number).\n",
    "# 2.If the number cannot be divided evenly by 4, simply return the number.\n"
   ]
  },
  {
   "cell_type": "code",
   "execution_count": 43,
   "metadata": {},
   "outputs": [
    {
     "data": {
      "text/plain": [
       "[1, 2, 3, 40, 5, 6, 7, 80, 9, 10]"
      ]
     },
     "execution_count": 43,
     "metadata": {},
     "output_type": "execute_result"
    }
   ],
   "source": [
    "def amplify(num):\n",
    "    l=[]\n",
    "    for i in range(1,num+1,):\n",
    "        if i%4==0:\n",
    "            l.append(i*10)\n",
    "            continue\n",
    "        l.append(i)\n",
    "    return l\n",
    "amplify(10)"
   ]
  },
  {
   "cell_type": "markdown",
   "metadata": {},
   "source": [
    "# Create a function that takes a list of numbers and return the number that's unique."
   ]
  },
  {
   "cell_type": "code",
   "execution_count": 53,
   "metadata": {},
   "outputs": [
    {
     "data": {
      "text/plain": [
       "6"
      ]
     },
     "execution_count": 53,
     "metadata": {},
     "output_type": "execute_result"
    }
   ],
   "source": [
    "def unique(l):\n",
    "    if l[0] == l[1]:\n",
    "        for i,j in enumerate(l):\n",
    "            if j == l[i+1]:\n",
    "                pass\n",
    "            else:\n",
    "                return l[i+1]\n",
    "    else:\n",
    "        return l[0]\n",
    "unique([8,8,8,8,6])"
   ]
  },
  {
   "cell_type": "markdown",
   "metadata": {},
   "source": [
    "# Your task is to create a Circle constructor that creates a circle with a radius provided by an argument. The circles constructed must have two getters getArea() (PIr^2) and getPerimeter() (2PI*r) which give both respective areas and perimeter (circumference).\n",
    "# For help with this class, I have provided you with a Rectangle constructor which you can use as a base example.\n"
   ]
  },
  {
   "cell_type": "code",
   "execution_count": 68,
   "metadata": {},
   "outputs": [
    {
     "name": "stdout",
     "output_type": "stream",
     "text": [
      "379.94    69.08\n"
     ]
    }
   ],
   "source": [
    "\n",
    "class circle:\n",
    "    def __init__(self,r):\n",
    "        self.r=r\n",
    "    def getArea(self):\n",
    "        pi = 3.14\n",
    "        return round(pi*(self.r**2),5)\n",
    "    def getPerimeter(self):\n",
    "        pi=3.14\n",
    "        return round(2*pi*self.r,5)\n",
    "c=circle(11)\n",
    "print(c.getArea(),'  ',c.getPerimeter())"
   ]
  },
  {
   "cell_type": "markdown",
   "metadata": {},
   "source": [
    "# Create a function that takes a list of strings and return a list, sorted from shortest to longest."
   ]
  },
  {
   "cell_type": "code",
   "execution_count": 78,
   "metadata": {},
   "outputs": [
    {
     "data": {
      "text/plain": [
       "['a', 'ab', 'asir', 'shaikh', 'uudhddh']"
      ]
     },
     "execution_count": 78,
     "metadata": {},
     "output_type": "execute_result"
    }
   ],
   "source": [
    "def function(l):\n",
    "    x={}\n",
    "    for i in l:\n",
    "        x[len(i)]=i\n",
    "    return sorted(x.values())\n",
    "function(['asir','shaikh','a','ab','uudhddh'])"
   ]
  },
  {
   "cell_type": "markdown",
   "metadata": {},
   "source": [
    "# Create a function that validates whether three given integers form a Pythagorean triplet. The sum of the squares of the two smallest integers must equal the square of the largest number to be validated."
   ]
  },
  {
   "cell_type": "code",
   "execution_count": 92,
   "metadata": {},
   "outputs": [
    {
     "data": {
      "text/plain": [
       "True"
      ]
     },
     "execution_count": 92,
     "metadata": {},
     "output_type": "execute_result"
    }
   ],
   "source": [
    "def is_triplet(a,b,c):\n",
    "        ma=max(a,b,c)\n",
    "        n=0\n",
    "        for i in [a,b,c]:\n",
    "            if i!=ma:\n",
    "                n+=i*i\n",
    "        if n==ma*ma:\n",
    "            return True\n",
    "        return False\n",
    "is_triplet(5,4,3)"
   ]
  },
  {
   "cell_type": "code",
   "execution_count": null,
   "metadata": {},
   "outputs": [],
   "source": []
  }
 ],
 "metadata": {
  "kernelspec": {
   "display_name": "Python 3",
   "language": "python",
   "name": "python3"
  },
  "language_info": {
   "codemirror_mode": {
    "name": "ipython",
    "version": 3
   },
   "file_extension": ".py",
   "mimetype": "text/x-python",
   "name": "python",
   "nbconvert_exporter": "python",
   "pygments_lexer": "ipython3",
   "version": "3.8.5"
  }
 },
 "nbformat": 4,
 "nbformat_minor": 4
}
