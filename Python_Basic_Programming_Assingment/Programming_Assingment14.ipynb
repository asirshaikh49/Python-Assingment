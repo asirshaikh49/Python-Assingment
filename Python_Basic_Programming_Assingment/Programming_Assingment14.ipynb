{
 "cells": [
  {
   "cell_type": "markdown",
   "metadata": {},
   "source": [
    "# Define a class with a generator which can iterate the numbers, which are divisible by 7, between a given range 0 and n.\n"
   ]
  },
  {
   "cell_type": "code",
   "execution_count": 9,
   "metadata": {},
   "outputs": [
    {
     "name": "stdout",
     "output_type": "stream",
     "text": [
      "['0', '7', '14', '21', '28', '35', '42', '49', '56', '63', '70']\n"
     ]
    }
   ],
   "source": [
    "class divible_7:\n",
    "    def __init__(self,n):\n",
    "        self.n=n\n",
    "    def div(self):\n",
    "        nl=[]\n",
    "        for x in range(self.n+1):\n",
    "            if (x%7==0) :\n",
    "                nl.append(str(x))\n",
    "        print(nl)\n",
    "op=divible_7(70)\n",
    "op.div()"
   ]
  },
  {
   "cell_type": "markdown",
   "metadata": {},
   "source": [
    "# Write a program to compute the frequency of the words from the input. The output should output after sorting the key alphanumerically. "
   ]
  },
  {
   "cell_type": "code",
   "execution_count": 15,
   "metadata": {},
   "outputs": [
    {
     "name": "stdout",
     "output_type": "stream",
     "text": [
      "Frequency of  between is : 1\n",
      "Frequency of  choosing is : 1\n",
      "Frequency of  Read is : 1\n",
      "Frequency of  or is : 2\n",
      "Frequency of  to is : 1\n",
      "Frequency of  New is : 1\n",
      "Frequency of  and is : 1\n",
      "Frequency of  3. is : 1\n",
      "Frequency of  Python is : 5\n",
      "Frequency of  2 is : 2\n",
      "Frequency of  3? is : 1\n"
     ]
    }
   ],
   "source": [
    "\n",
    "def freq(str):\n",
    "    str_list = str.split()\n",
    "    unique_words = set(str_list)\n",
    "    for words in unique_words :\n",
    "        print('Frequency of ', words , 'is :', str_list.count(words))\n",
    "\n",
    "str ='New to Python or choosing between Python 2 and Python 3? Read Python 2 or Python 3.'\n",
    "freq(str)\n"
   ]
  },
  {
   "cell_type": "markdown",
   "metadata": {},
   "source": [
    "# Define a class Person and its two child classes: Male and Female. All classes have a method \"getGender\" which can print \"Male\" for Male class and \"Female\" for Female class."
   ]
  },
  {
   "cell_type": "code",
   "execution_count": 32,
   "metadata": {},
   "outputs": [
    {
     "name": "stdout",
     "output_type": "stream",
     "text": [
      "male\n",
      "female\n"
     ]
    }
   ],
   "source": [
    "class person:\n",
    "    def __init__(self):\n",
    "        pass\n",
    "class male(person):\n",
    "    def getGender(self):\n",
    "            return \"male\"\n",
    "class female(person):\n",
    "    def getGender(self):\n",
    "        return \"female\"\n",
    "p=person()\n",
    "m=male()\n",
    "f=female()\n",
    "print(m.getGender())\n",
    "print(f.getGender())"
   ]
  },
  {
   "cell_type": "markdown",
   "metadata": {},
   "source": [
    "# Please write a program to generate all sentences where subject is in [\"I\", \"You\"] and verb is in [\"Play\", \"Love\"] and the object is in [\"Hockey\",\"Football\"]."
   ]
  },
  {
   "cell_type": "code",
   "execution_count": 21,
   "metadata": {},
   "outputs": [
    {
     "name": "stdout",
     "output_type": "stream",
     "text": [
      "I Play Hockey\n",
      "I Play Football\n",
      "I Love Hockey\n",
      "I Love Football\n",
      "You Play Hockey\n",
      "You Play Football\n",
      "You Love Hockey\n",
      "You Love Football\n"
     ]
    }
   ],
   "source": [
    "l1,l2,l3=['I',\"You\"],[\"Play\", \"Love\"],[\"Hockey\",\"Football\"]\n",
    "for i in l1:\n",
    "    for j in l2:\n",
    "        for k in l3:\n",
    "           print(i,j,k)\n",
    "        "
   ]
  },
  {
   "cell_type": "markdown",
   "metadata": {},
   "source": [
    "# Please write a program to compress and decompress the string \"hello world!helloworld!helloworld!hello world!\"."
   ]
  },
  {
   "cell_type": "code",
   "execution_count": 26,
   "metadata": {},
   "outputs": [
    {
     "name": "stdout",
     "output_type": "stream",
     "text": [
      "Compress  b'x\\x9c\\xcbH\\xcd\\xc9\\xc9W(\\xcf/\\xcaIQ\\xcc\\x00\\xb1\\xb13\\xa1*\\x00\\xa5\\x9a\\x11\\xb5'\n",
      "Decompress  b'hello world!helloworld!helloworld!hello world!'\n"
     ]
    }
   ],
   "source": [
    "import zlib\n",
    "txt=\"hello world!helloworld!helloworld!hello world!\"\n",
    "comp=zlib.compress(txt.encode())\n",
    "print('Compress ',comp)\n",
    "decomp=zlib.decompress(comp)\n",
    "print(\"Decompress \",decomp)"
   ]
  },
  {
   "cell_type": "markdown",
   "metadata": {},
   "source": [
    "# Please write a binary search function which searches an item in a sorted list. The function should return the index of element to be searched in the list."
   ]
  },
  {
   "cell_type": "code",
   "execution_count": 30,
   "metadata": {},
   "outputs": [
    {
     "name": "stdout",
     "output_type": "stream",
     "text": [
      "Occurnce of  7  Is present at  3\n"
     ]
    }
   ],
   "source": [
    "from bisect import bisect_left\n",
    "def Binarysearch(l,x):\n",
    "    i=bisect_left(l,x)\n",
    "    if i!=len(l) and l[i]==x:\n",
    "        return i\n",
    "    else:\n",
    "        return -1\n",
    "l=[1,3,5,7,9]\n",
    "x=7\n",
    "res=Binarysearch(l,x)\n",
    "if res==-1:\n",
    "    print(x,\" Is Absent\")\n",
    "else:\n",
    "    print(\"Occurnce of \",x,\" Is present at \",res)"
   ]
  },
  {
   "cell_type": "code",
   "execution_count": null,
   "metadata": {},
   "outputs": [],
   "source": []
  }
 ],
 "metadata": {
  "kernelspec": {
   "display_name": "Python 3",
   "language": "python",
   "name": "python3"
  },
  "language_info": {
   "codemirror_mode": {
    "name": "ipython",
    "version": 3
   },
   "file_extension": ".py",
   "mimetype": "text/x-python",
   "name": "python",
   "nbconvert_exporter": "python",
   "pygments_lexer": "ipython3",
   "version": "3.8.5"
  }
 },
 "nbformat": 4,
 "nbformat_minor": 4
}
