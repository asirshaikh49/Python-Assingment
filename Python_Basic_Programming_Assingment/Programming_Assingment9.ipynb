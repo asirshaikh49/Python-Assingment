{
 "cells": [
  {
   "cell_type": "markdown",
   "metadata": {},
   "source": [
    "# Write a Python Program to check if the given number is a Disarium Number?"
   ]
  },
  {
   "cell_type": "code",
   "execution_count": 64,
   "metadata": {},
   "outputs": [
    {
     "name": "stdout",
     "output_type": "stream",
     "text": [
      "No,88 Is not a Disarium number\n"
     ]
    }
   ],
   "source": [
    "# suppose we have 175 then 1**1+7**2+5**3=175 then it is Disarium number:\n",
    "def disarium(n):\n",
    "    digits=len(str(n))\n",
    "    add=rem=0\n",
    "    num=n\n",
    "    while(n>0):\n",
    "        rem=n%10\n",
    "        add=add+int(rem**digits)\n",
    "        n=n//10\n",
    "        digits=digits-1\n",
    "      \n",
    "    if add==num:\n",
    "        return \"YES,\"+str(num)+\" Is a Disarium number\"\n",
    "    else:\n",
    "        return \"No,\"+str(num)+\" Is not a Disarium number\"\n",
    "   \n",
    "s=disarium(88)\n",
    "print(s)"
   ]
  },
  {
   "cell_type": "markdown",
   "metadata": {},
   "source": [
    "# Write a Python Program to print all Disarium numbers between 1 to 100?"
   ]
  },
  {
   "cell_type": "code",
   "execution_count": 61,
   "metadata": {},
   "outputs": [
    {
     "name": "stdout",
     "output_type": "stream",
     "text": [
      "0\n",
      "1\n",
      "2\n",
      "3\n",
      "4\n",
      "5\n",
      "6\n",
      "7\n",
      "8\n",
      "9\n",
      "89\n"
     ]
    }
   ],
   "source": [
    "def disarium(n):\n",
    "    digits=len(str(n))\n",
    "    add=rem=0\n",
    "    num=n\n",
    "    while(n>0):\n",
    "        rem=n%10\n",
    "        add=add+int(rem**digits)\n",
    "        n=n//10\n",
    "        digits=digits-1\n",
    "      \n",
    "    if add==num:\n",
    "        return 1\n",
    "    else:\n",
    "        return 0\n",
    "   \n",
    "for n in range(100):\n",
    "    s=disarium(n)\n",
    "    if s==1:\n",
    "        print(n)\n"
   ]
  },
  {
   "cell_type": "markdown",
   "metadata": {},
   "source": [
    "# Write a Python Program to check if the given number is Happy Number?"
   ]
  },
  {
   "cell_type": "code",
   "execution_count": 85,
   "metadata": {},
   "outputs": [
    {
     "name": "stdout",
     "output_type": "stream",
     "text": [
      "ENter the number13\n",
      "13 is a HAppy Number\n"
     ]
    }
   ],
   "source": [
    "def isHappy(num):\n",
    "    squaresum=rem=0\n",
    "    while(num>0):\n",
    "        rem=num%10\n",
    "        squaresum = squaresum + (rem*rem)\n",
    "        num=num//10\n",
    "    return squaresum\n",
    "num=int(input(\"ENter the number\"))\n",
    "result=num  \n",
    "while(result!=1 and result!=4):\n",
    "    result=isHappy(result)\n",
    "    \n",
    "if result==1:\n",
    "    print(f\"{num} is a HAppy Number\")\n",
    "elif result==4:\n",
    "     print(f\"{num} is not a HAppy Number\")"
   ]
  },
  {
   "cell_type": "markdown",
   "metadata": {},
   "source": [
    "# Write a Python Program to print all happy numbers between 1 and 100?"
   ]
  },
  {
   "cell_type": "code",
   "execution_count": 90,
   "metadata": {},
   "outputs": [
    {
     "name": "stdout",
     "output_type": "stream",
     "text": [
      "1\n",
      "7\n",
      "10\n",
      "13\n",
      "19\n",
      "23\n",
      "28\n",
      "31\n",
      "32\n",
      "44\n",
      "49\n",
      "68\n",
      "70\n",
      "79\n",
      "82\n",
      "86\n",
      "91\n",
      "94\n",
      "97\n",
      "100\n"
     ]
    }
   ],
   "source": [
    "def isHappy(num):\n",
    "    squaresum=rem=0\n",
    "    while(num>0):\n",
    "        rem=num%10\n",
    "        squaresum = squaresum + rem*rem\n",
    "        num=num//10\n",
    "    return squaresum\n",
    "for i in range(1,101):\n",
    "    n=i\n",
    "    while(n!=1 and n!=4):\n",
    "        n=isHappy(n)\n",
    "    if n==1:\n",
    "        print(i)"
   ]
  },
  {
   "cell_type": "markdown",
   "metadata": {},
   "source": [
    "# Write a Python Program to Determine whether the Given number is a Harshad number? "
   ]
  },
  {
   "cell_type": "code",
   "execution_count": 89,
   "metadata": {},
   "outputs": [
    {
     "name": "stdout",
     "output_type": "stream",
     "text": [
      "Enter the NUmber : 45\n",
      "45 Is a Harshad Number \n"
     ]
    }
   ],
   "source": [
    "num=int(input(\"Enter the NUmber : \"))\n",
    "rem=sum=0\n",
    "n=num\n",
    "while(num>0):\n",
    "    rem=num%10\n",
    "    sum=sum+rem\n",
    "    num=num//10\n",
    "if(n%sum==0):\n",
    "    print(str(n)+\" Is a Harshad Number \")\n",
    "else:\n",
    "    print(str(n)+\"IS not A harshad number \")"
   ]
  },
  {
   "cell_type": "markdown",
   "metadata": {},
   "source": [
    "# Write a Python Program to Print all Pronic numbers between 1 and 100?"
   ]
  },
  {
   "cell_type": "code",
   "execution_count": 107,
   "metadata": {},
   "outputs": [
    {
     "name": "stdout",
     "output_type": "stream",
     "text": [
      "0\n",
      "2\n",
      "6\n",
      "12\n",
      "20\n",
      "30\n",
      "42\n",
      "56\n",
      "72\n",
      "90\n"
     ]
    }
   ],
   "source": [
    "\n",
    "import math\n",
    "def checkPronic(x):\n",
    "    i=0\n",
    "    while(i<=(int)(math.sqrt(x))):\n",
    "        if(x==i*(i+1)):\n",
    "            return True\n",
    "        i=i+1\n",
    "    return False\n",
    "for i in range(100):\n",
    "    if checkPronic(i):\n",
    "        print(i)\n",
    "    "
   ]
  },
  {
   "cell_type": "code",
   "execution_count": null,
   "metadata": {},
   "outputs": [],
   "source": []
  },
  {
   "cell_type": "code",
   "execution_count": null,
   "metadata": {},
   "outputs": [],
   "source": []
  }
 ],
 "metadata": {
  "kernelspec": {
   "display_name": "Python 3",
   "language": "python",
   "name": "python3"
  },
  "language_info": {
   "codemirror_mode": {
    "name": "ipython",
    "version": 3
   },
   "file_extension": ".py",
   "mimetype": "text/x-python",
   "name": "python",
   "nbconvert_exporter": "python",
   "pygments_lexer": "ipython3",
   "version": "3.8.5"
  }
 },
 "nbformat": 4,
 "nbformat_minor": 4
}
