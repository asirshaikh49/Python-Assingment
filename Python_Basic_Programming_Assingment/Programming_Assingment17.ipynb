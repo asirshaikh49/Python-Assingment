{
 "cells": [
  {
   "cell_type": "markdown",
   "metadata": {},
   "source": [
    "# Create a function that takes three arguments a, b, c and returns the sum of the numbers that are evenly divided by c from the range a, b inclusive.\n",
    "# Examples\n",
    "# evenly_divisible(1, 10, 20) ➞ 0\n",
    "# No number between 1 and 10 can be evenly divided by 20.\n",
    "\n",
    "# evenly_divisible(1, 10, 2) ➞ 30\n",
    "# 2 + 4 + 6 + 8 + 10 = 30\n"
   ]
  },
  {
   "cell_type": "code",
   "execution_count": 57,
   "metadata": {},
   "outputs": [
    {
     "name": "stdout",
     "output_type": "stream",
     "text": [
      "[2, 4, 6, 8, 10] = 30\n",
      "None\n"
     ]
    }
   ],
   "source": [
    "import math\n",
    "def evenly_divisible(a,b,c):\n",
    "    l=[]\n",
    "    for i in range(a,b+1):\n",
    "        if i%c==0:\n",
    "            l.append(i)\n",
    "    cal=sum(l)\n",
    "    print(print(l,\"=\",cal))\n",
    "    return l\n",
    "        \n",
    "S=evenly_divisible(1,10,2)\n",
    "if S==[]:\n",
    "    print(\"No number is between the range\")\n",
    "    \n",
    "\n"
   ]
  },
  {
   "cell_type": "markdown",
   "metadata": {},
   "source": [
    "# Create a function that returns True if a given inequality expression is correct and False otherwise.\n",
    "# Examples\n",
    "# correct_signs(\"3 < 7 < 11\") ➞ True\n",
    "\n"
   ]
  },
  {
   "cell_type": "code",
   "execution_count": 73,
   "metadata": {},
   "outputs": [
    {
     "name": "stdout",
     "output_type": "stream",
     "text": [
      "[12, 45, 12, 45]\n",
      "['<', '>', '<']\n",
      "True\n",
      "[25, 13, 4846, 456]\n",
      "['<', '>', '>']\n",
      "False\n",
      "[1181546, 1563, 1516, 1566813]\n",
      "['>', '>', '<']\n",
      "True\n"
     ]
    }
   ],
   "source": [
    "def correct_signs(deg):\n",
    "    giris=0\n",
    "    beg=0\n",
    "    volumes=[]\n",
    "    signs=[]\n",
    "    try:\n",
    "        while True:\n",
    "\n",
    "            mi=deg.find(\"<\",beg)\n",
    "            bi=deg.find(\">\",beg)\n",
    "#print(mi,bi,beg)\n",
    "            if bi==-1 and mi==-1 and giris==0:\n",
    "                print(\"You should enter siign\")\n",
    "#print(\"0\")\n",
    "                break\n",
    "\n",
    "            elif mi<=bi and mi!=-1 and bi!=-1 :\n",
    "\n",
    "                volumes.append(int(deg[:deg.find(\"<\",beg)]))\n",
    "                signs.append(\"<\")\n",
    "                beg=deg.find(\"<\",beg)+1\n",
    "                deg=deg[beg:]\n",
    "                beg=0\n",
    "#print(\"1\")\n",
    "            elif bi<=mi and bi!=-1 and mi!=-1:\n",
    "                volumes.append(int(deg[:deg.find(\">\",beg)]))\n",
    "                signs.append(\">\")\n",
    "                beg=deg.find(\">\",beg)+1\n",
    "                deg=deg[beg:]\n",
    "                beg=0\n",
    "#print(\"5\")\n",
    "            elif bi!=-1 and mi==-1:\n",
    "                volumes.append(int(deg[:deg.find(\">\",beg)]))\n",
    "                signs.append(\">\")\n",
    "                beg=deg.find(\">\",beg)+1\n",
    "                deg=deg[beg:]\n",
    "                beg=0\n",
    "#print(\"3\")\n",
    "            elif mi!=-1 and bi==-1:\n",
    "                volumes.append(int(deg[:deg.find(\"<\",beg)]))\n",
    "                signs.append(\"<\")\n",
    "                beg=deg.find(\"<\",beg)+1\n",
    "                deg=deg[beg:]\n",
    "                beg=0\n",
    "#print(\"4\")\n",
    "            elif bi==-1 and mi==-1:\n",
    "                volumes.append(int(deg))\n",
    "                deg=\"\"\n",
    "                break\n",
    "            giris+=1\n",
    "        a=0\n",
    "        b=1\n",
    "        bol=True\n",
    "        print(volumes)\n",
    "        print(signs)\n",
    "        while a<len(volumes)-1:\n",
    "#print(a,b)\n",
    "            if signs[a]==\"<\":\n",
    "                if volumes[a]<volumes[b]:\n",
    "                    pass\n",
    "                else:\n",
    "                    bol=False\n",
    "            elif signs[a]==\">\":\n",
    "                if volumes[a]>volumes[b]:\n",
    "                    pass\n",
    "                else:\n",
    "                    bol=False\n",
    "            else:\n",
    "                print(\"Wow\")\n",
    "            a+=1\n",
    "            b+=1\n",
    "        print(bol)\n",
    "    except ValueError:\n",
    "        print(\"There is some problem with your number\")\n",
    "\n",
    "\n",
    "correct_signs(\"12 < 45 > 12 < 45\")\n",
    "correct_signs(\"25<13>4846>456\")\n",
    "correct_signs(\"1181546>1563>1516<1566813\")"
   ]
  },
  {
   "cell_type": "markdown",
   "metadata": {},
   "source": [
    "# Create a function that replaces all the vowels in a string with a specified character.\n",
    "# Examples\n",
    "# replace_vowels(\"the aardvark\", \"#\") ➞ \"th# ##rdv#rk\"\n"
   ]
  },
  {
   "cell_type": "code",
   "execution_count": 76,
   "metadata": {},
   "outputs": [
    {
     "data": {
      "text/plain": [
       "'#s#r Sh##kh'"
      ]
     },
     "execution_count": 76,
     "metadata": {},
     "output_type": "execute_result"
    }
   ],
   "source": [
    "def replace_vowels(str,chr):\n",
    "    l='AEIOUaeiou'\n",
    "    for i in l:\n",
    "        str=str.replace(i,chr)\n",
    "    return str\n",
    "replace_vowels('Asir Shaikh','#')\n",
    "    "
   ]
  },
  {
   "cell_type": "markdown",
   "metadata": {},
   "source": [
    "# Write a function that calculates the factorial of a number recursively."
   ]
  },
  {
   "cell_type": "code",
   "execution_count": 2,
   "metadata": {},
   "outputs": [
    {
     "data": {
      "text/plain": [
       "120"
      ]
     },
     "execution_count": 2,
     "metadata": {},
     "output_type": "execute_result"
    }
   ],
   "source": [
    "def factorial(num):\n",
    "    if num==0:\n",
    "        return 1\n",
    "    else:\n",
    "        return (num*factorial(num-1))\n",
    "            \n",
    "factorial(5)"
   ]
  },
  {
   "cell_type": "markdown",
   "metadata": {},
   "source": [
    "# Create a function that computes the hamming distance between two strings"
   ]
  },
  {
   "cell_type": "code",
   "execution_count": 6,
   "metadata": {},
   "outputs": [
    {
     "data": {
      "text/plain": [
       "1"
      ]
     },
     "execution_count": 6,
     "metadata": {},
     "output_type": "execute_result"
    }
   ],
   "source": [
    "def hamming_distance(str1,str2):\n",
    "    i,count=0,0\n",
    "    while(i<len(str1)):\n",
    "        if str1[i]!=str2[i]:\n",
    "            count=count+1\n",
    "        i=i+1\n",
    "    return count\n",
    "hamming_distance('Asir',\"Asif\")"
   ]
  },
  {
   "cell_type": "code",
   "execution_count": null,
   "metadata": {},
   "outputs": [],
   "source": []
  }
 ],
 "metadata": {
  "kernelspec": {
   "display_name": "Python 3",
   "language": "python",
   "name": "python3"
  },
  "language_info": {
   "codemirror_mode": {
    "name": "ipython",
    "version": 3
   },
   "file_extension": ".py",
   "mimetype": "text/x-python",
   "name": "python",
   "nbconvert_exporter": "python",
   "pygments_lexer": "ipython3",
   "version": "3.8.5"
  }
 },
 "nbformat": 4,
 "nbformat_minor": 4
}
