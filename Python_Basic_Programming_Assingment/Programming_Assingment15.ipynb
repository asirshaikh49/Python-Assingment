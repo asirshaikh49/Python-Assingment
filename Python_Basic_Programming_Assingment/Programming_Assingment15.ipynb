{
 "cells": [
  {
   "cell_type": "markdown",
   "metadata": {},
   "source": [
    "# Please write a program using generator to print the numbers which can be divisible by 5 and 7 between 0 and n in comma separated form while n is input by console."
   ]
  },
  {
   "cell_type": "code",
   "execution_count": 2,
   "metadata": {},
   "outputs": [
    {
     "name": "stdout",
     "output_type": "stream",
     "text": [
      "Enter The Ranges : 100\n",
      "[0, 35, 70]\n"
     ]
    }
   ],
   "source": [
    "x=int(input(\"Enter The Ranges : \"))\n",
    "l=[]\n",
    "for i in range(x+1):\n",
    "    if i%5==0 and i%7==0:\n",
    "        l.append(i)\n",
    "print(l)"
   ]
  },
  {
   "cell_type": "markdown",
   "metadata": {},
   "source": [
    "# Please write a program using generator to print the even numbers between 0 and n in comma separated form while n is input by console."
   ]
  },
  {
   "cell_type": "code",
   "execution_count": 3,
   "metadata": {},
   "outputs": [
    {
     "name": "stdout",
     "output_type": "stream",
     "text": [
      "[0, 2, 4, 6, 8, 10, 12, 14, 16, 18, 20, 22, 24, 26, 28, 30, 32, 34, 36, 38, 40, 42, 44, 46, 48, 50, 52, 54, 56, 58, 60, 62, 64, 66, 68, 70, 72, 74, 76, 78, 80, 82, 84, 86, 88, 90, 92, 94, 96, 98, 100]\n"
     ]
    }
   ],
   "source": [
    "def even(x):\n",
    "    l=[]\n",
    "    for i in range(x+1):\n",
    "        if i%2==0 :\n",
    "            l.append(i)\n",
    "    print(l)\n",
    "even(100)"
   ]
  },
  {
   "cell_type": "markdown",
   "metadata": {},
   "source": [
    "# The Fibonacci Sequence is computed based on the following formula:\n",
    "# f(n)=0 if n=0\n",
    "# f(n)=1 if n=1\n",
    "# f(n)=f(n-1)+f(n-2) if n>1\n",
    "# Please write a program using list comprehension to print the Fibonacci Sequence in comma separated form with a given n input by console.\n"
   ]
  },
  {
   "cell_type": "code",
   "execution_count": 4,
   "metadata": {},
   "outputs": [
    {
     "name": "stdout",
     "output_type": "stream",
     "text": [
      "Enter the number = 7\n",
      "0,1,1,2,3,5,8,13,"
     ]
    }
   ],
   "source": [
    "def fibonacci(n):\n",
    "    l = [0,1]\n",
    "    [l.append(l[-2]+l[-1]) for i in range(2,n+1)]\n",
    "    for i in l:\n",
    "        print(i,end = ',')\n",
    "n = int(input('Enter the number = '))\n",
    "fibonacci(n)"
   ]
  },
  {
   "cell_type": "markdown",
   "metadata": {},
   "source": [
    "# Assuming that we have some email addresses in the \"username@companyname.com\" format, please write program to print the user name of a given email address. Both user names and company names are composed of letters only."
   ]
  },
  {
   "cell_type": "code",
   "execution_count": 15,
   "metadata": {},
   "outputs": [
    {
     "name": "stdout",
     "output_type": "stream",
     "text": [
      "enter the mail : asir@gmail.com\n",
      "username :  asir  Company name :  gmail\n"
     ]
    }
   ],
   "source": [
    "s=input(\"enter the mail : \")\n",
    "for i in range(len(s)):\n",
    "    if s[i]=='@':\n",
    "        u=i\n",
    "    elif s[i]=='.':\n",
    "        c=i\n",
    "print(\"username : \",s[0:u],' Company name : ',s[u+1:c])"
   ]
  },
  {
   "cell_type": "markdown",
   "metadata": {},
   "source": [
    "# Define a class named Shape and its subclass Square. The Square class has an init function which takes a length as argument. Both classes have a area function which can print the area of the shape where Shape's area is 0 by default."
   ]
  },
  {
   "cell_type": "code",
   "execution_count": 18,
   "metadata": {},
   "outputs": [
    {
     "data": {
      "text/plain": [
       "64"
      ]
     },
     "execution_count": 18,
     "metadata": {},
     "output_type": "execute_result"
    }
   ],
   "source": [
    "class shape:\n",
    "    def area(self):\n",
    "        return 0\n",
    "class square(shape):\n",
    "    def __init__(self,l):\n",
    "        self.l=l\n",
    "    def area(self):\n",
    "        return(self.l**2)\n",
    "sq=square(8)\n",
    "sq.area()"
   ]
  },
  {
   "cell_type": "code",
   "execution_count": null,
   "metadata": {},
   "outputs": [],
   "source": []
  },
  {
   "cell_type": "code",
   "execution_count": null,
   "metadata": {},
   "outputs": [],
   "source": []
  },
  {
   "cell_type": "code",
   "execution_count": null,
   "metadata": {},
   "outputs": [],
   "source": []
  },
  {
   "cell_type": "code",
   "execution_count": null,
   "metadata": {},
   "outputs": [],
   "source": []
  },
  {
   "cell_type": "code",
   "execution_count": null,
   "metadata": {},
   "outputs": [],
   "source": []
  },
  {
   "cell_type": "code",
   "execution_count": null,
   "metadata": {},
   "outputs": [],
   "source": []
  },
  {
   "cell_type": "code",
   "execution_count": null,
   "metadata": {},
   "outputs": [],
   "source": []
  },
  {
   "cell_type": "code",
   "execution_count": null,
   "metadata": {},
   "outputs": [],
   "source": []
  },
  {
   "cell_type": "code",
   "execution_count": null,
   "metadata": {},
   "outputs": [],
   "source": []
  },
  {
   "cell_type": "code",
   "execution_count": null,
   "metadata": {},
   "outputs": [],
   "source": []
  },
  {
   "cell_type": "code",
   "execution_count": null,
   "metadata": {},
   "outputs": [],
   "source": []
  }
 ],
 "metadata": {
  "kernelspec": {
   "display_name": "Python 3",
   "language": "python",
   "name": "python3"
  }
 },
 "nbformat": 4,
 "nbformat_minor": 4
}
